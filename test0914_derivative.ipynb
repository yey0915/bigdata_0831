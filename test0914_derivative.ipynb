{
 "cells": [
  {
   "cell_type": "code",
   "execution_count": 1,
   "metadata": {},
   "outputs": [],
   "source": [
    "import torch\n",
    "import numpy as np"
   ]
  },
  {
   "cell_type": "code",
   "execution_count": 2,
   "metadata": {},
   "outputs": [],
   "source": [
    "def numerical_derivative(f, x):\n",
    "    delta_x = 1e-4\n",
    "    return (f(x+delta_x)-f(x-delta_x))/(2*delta_x)"
   ]
  },
  {
   "cell_type": "code",
   "execution_count": 3,
   "metadata": {},
   "outputs": [],
   "source": [
    "def my_func1(x):\n",
    "    return x**2"
   ]
  },
  {
   "cell_type": "code",
   "execution_count": 4,
   "metadata": {},
   "outputs": [
    {
     "name": "stdout",
     "output_type": "stream",
     "text": [
      "6.000000000012662\n"
     ]
    }
   ],
   "source": [
    "result = numerical_derivative(my_func1,3)\n",
    "print(result)"
   ]
  },
  {
   "cell_type": "code",
   "execution_count": 5,
   "metadata": {},
   "outputs": [],
   "source": [
    "def my_func2(x):\n",
    "    return x**2 + 2*x + 1 \n",
    "    #( x**2 + 2x +1 = 9)\n",
    "    # x=2 일 경우 6이된다. "
   ]
  },
  {
   "cell_type": "code",
   "execution_count": 6,
   "metadata": {},
   "outputs": [
    {
     "name": "stdout",
     "output_type": "stream",
     "text": [
      "8.000000000016882\n"
     ]
    }
   ],
   "source": [
    "result = numerical_derivative(my_func2,3)\n",
    "print(result)"
   ]
  },
  {
   "cell_type": "code",
   "execution_count": 9,
   "metadata": {},
   "outputs": [],
   "source": [
    "# 편미분\n",
    "def numerical_derivative2(f, x):\n",
    "    delta_x = 1e-4\n",
    "    grad = np.zeros_like(x)\n",
    "\n",
    "    print('x:', x)\n",
    "    print('grad :', grad)\n",
    "\n",
    "    it = np.nditer(x, flags=['multi_index'], op_flags=['readwrite']) #\n",
    "\n",
    "    while not it.finished:\n",
    "        idx = it.multi_index\n",
    "\n",
    "        tmp_val = x[idx]\n",
    "        x[idx] = float(tmp_val) + delta_x\n",
    "        fx1 = f(x) #f(x + delta_x)\n",
    "\n",
    "        x[idx] = tmp_val - delta_x\n",
    "        fx2 = f(x) #f(x - delta_x)\n",
    "        grad[idx] = (fx1 - fx2) / (2*delta_x)\n",
    "        print('grad[idx]:', grad[idx])\n",
    "        print('grad :', grad)\n",
    "\n",
    "        x[idx] = tmp_val\n",
    "        it.iternext()\n",
    "\n",
    "    return grad"
   ]
  },
  {
   "cell_type": "code",
   "execution_count": 10,
   "metadata": {},
   "outputs": [],
   "source": [
    "def func1(input):\n",
    "    x = input[0]\n",
    "    y = input[1]\n",
    "\n",
    "    return (2*x + 3*x*y + np.power(y, 3))"
   ]
  },
  {
   "cell_type": "code",
   "execution_count": 11,
   "metadata": {},
   "outputs": [
    {
     "name": "stdout",
     "output_type": "stream",
     "text": [
      "x: [3. 2.]\n",
      "grad : [0. 0.]\n",
      "grad[idx]: 7.999999999999119\n",
      "grad : [8. 0.]\n",
      "grad[idx]: 21.000000010040765\n",
      "grad : [ 8.         21.00000001]\n"
     ]
    },
    {
     "data": {
      "text/plain": [
       "array([ 8.        , 21.00000001])"
      ]
     },
     "execution_count": 11,
     "metadata": {},
     "output_type": "execute_result"
    }
   ],
   "source": [
    "numerical_derivative2(func1, np.array([3.0, 2.0]))"
   ]
  },
  {
   "cell_type": "code",
   "execution_count": 13,
   "metadata": {},
   "outputs": [],
   "source": [
    "def func2(input):\n",
    "    w = input[0][0]\n",
    "    x = input[0][1]\n",
    "    y = input[1][0]\n",
    "    z = input[1][1]\n",
    "\n",
    "    return (w*x + x*y*z + 3*w + z**2)"
   ]
  },
  {
   "cell_type": "code",
   "execution_count": 14,
   "metadata": {},
   "outputs": [
    {
     "name": "stdout",
     "output_type": "stream",
     "text": [
      "x: [[1. 2.]\n",
      " [3. 4.]]\n",
      "grad : [[0. 0.]\n",
      " [0. 0.]]\n",
      "grad[idx]: 5.000000000023874\n",
      "grad : [[5. 0.]\n",
      " [0. 0.]]\n",
      "grad[idx]: 13.00000000000523\n",
      "grad : [[ 5. 13.]\n",
      " [ 0.  0.]]\n",
      "grad[idx]: 7.999999999981355\n",
      "grad : [[ 5. 13.]\n",
      " [ 8.  0.]]\n",
      "grad[idx]: 14.000000000002899\n",
      "grad : [[ 5. 13.]\n",
      " [ 8. 14.]]\n"
     ]
    },
    {
     "data": {
      "text/plain": [
       "array([[ 5., 13.],\n",
       "       [ 8., 14.]])"
      ]
     },
     "execution_count": 14,
     "metadata": {},
     "output_type": "execute_result"
    }
   ],
   "source": [
    "numerical_derivative2(func2, np.array([[1.0, 2.0], [3.0, 4.0]]))"
   ]
  },
  {
   "cell_type": "code",
   "execution_count": 19,
   "metadata": {},
   "outputs": [
    {
     "name": "stdout",
     "output_type": "stream",
     "text": [
      "x: [3]\n",
      "grad : [0]\n",
      "grad[idx]: 25000\n",
      "grad : [25000]\n"
     ]
    },
    {
     "data": {
      "text/plain": [
       "array([25000])"
      ]
     },
     "execution_count": 19,
     "metadata": {},
     "output_type": "execute_result"
    }
   ],
   "source": [
    "numerical_derivative2(my_func1, np.array([3]))"
   ]
  },
  {
   "cell_type": "code",
   "execution_count": null,
   "metadata": {},
   "outputs": [],
   "source": []
  }
 ],
 "metadata": {
  "kernelspec": {
   "display_name": "base",
   "language": "python",
   "name": "python3"
  },
  "language_info": {
   "codemirror_mode": {
    "name": "ipython",
    "version": 3
   },
   "file_extension": ".py",
   "mimetype": "text/x-python",
   "name": "python",
   "nbconvert_exporter": "python",
   "pygments_lexer": "ipython3",
   "version": "3.11.4"
  },
  "orig_nbformat": 4
 },
 "nbformat": 4,
 "nbformat_minor": 2
}
