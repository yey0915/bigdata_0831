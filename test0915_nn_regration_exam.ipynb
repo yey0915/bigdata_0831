{
 "cells": [
  {
   "cell_type": "code",
   "execution_count": 29,
   "metadata": {},
   "outputs": [],
   "source": [
    "import torch\n",
    "import torch.nn as nn\n",
    "import torch.nn.functional as F\n",
    "import torch.optim as optim"
   ]
  },
  {
   "cell_type": "code",
   "execution_count": 41,
   "metadata": {},
   "outputs": [],
   "source": [
    "x_train = [[73., 80., 75.],\n",
    "           [93., 88., 93.],\n",
    "           [89., 91., 90.],\n",
    "           [96., 98., 100.],\n",
    "           [73., 66., 70.]]\n",
    "y_train = [[152.], [185.], [180.], [196.], [142.]]"
   ]
  },
  {
   "cell_type": "code",
   "execution_count": 45,
   "metadata": {},
   "outputs": [],
   "source": [
    "torch.manual_seed(1)\n",
    "x_train = torch.FloatTensor(x_train)\n",
    "y_train = torch.FloatTensor(y_train)"
   ]
  },
  {
   "cell_type": "code",
   "execution_count": 17,
   "metadata": {},
   "outputs": [
    {
     "name": "stdout",
     "output_type": "stream",
     "text": [
      "[Parameter containing:\n",
      "tensor([[ 0.5070, -0.0962,  0.2471]], requires_grad=True), Parameter containing:\n",
      "tensor([-0.2683], requires_grad=True)]\n"
     ]
    }
   ],
   "source": [
    "# model = nn.Linear(in_features=3, out_features=1) # input_dim, output_dim : 입력 자료의 차원, 출력 자료의 차원\n",
    "# print(list(model.parameters()))"
   ]
  },
  {
   "cell_type": "code",
   "execution_count": 42,
   "metadata": {},
   "outputs": [
    {
     "name": "stdout",
     "output_type": "stream",
     "text": [
      "[Parameter containing:\n",
      "tensor([[-0.5435,  0.3462, -0.1188]], requires_grad=True), Parameter containing:\n",
      "tensor([0.2937], requires_grad=True)]\n"
     ]
    }
   ],
   "source": [
    "# W와 B 값 확인하기\n",
    "model = nn.Linear(3,1) # input_dim, output_dim : 입력 자료의 차원, 출력 자료의 차원\n",
    "print(list(model.parameters()))"
   ]
  },
  {
   "cell_type": "code",
   "execution_count": 43,
   "metadata": {},
   "outputs": [],
   "source": [
    "optimize = optim.SGD(model.parameters(), lr=1e-5)"
   ]
  },
  {
   "cell_type": "code",
   "execution_count": 49,
   "metadata": {},
   "outputs": [
    {
     "name": "stdout",
     "output_type": "stream",
     "text": [
      "epoch 0 Cost : 0.24696040153503418\n",
      "epoch 100 Cost : 0.24652092158794403\n",
      "epoch 200 Cost : 0.24606695771217346\n",
      "epoch 300 Cost : 0.24563975632190704\n",
      "epoch 400 Cost : 0.24520210921764374\n",
      "epoch 500 Cost : 0.24476225674152374\n",
      "epoch 600 Cost : 0.2443244457244873\n",
      "epoch 700 Cost : 0.2439001500606537\n",
      "epoch 800 Cost : 0.24347898364067078\n",
      "epoch 900 Cost : 0.24304714798927307\n",
      "epoch 1000 Cost : 0.24262650310993195\n",
      "epoch 1100 Cost : 0.2422020435333252\n",
      "epoch 1200 Cost : 0.24178752303123474\n",
      "epoch 1300 Cost : 0.2413775473833084\n",
      "epoch 1400 Cost : 0.24095866084098816\n",
      "epoch 1500 Cost : 0.24054686725139618\n",
      "epoch 1600 Cost : 0.24014350771903992\n",
      "epoch 1700 Cost : 0.23973505198955536\n",
      "epoch 1800 Cost : 0.23932857811450958\n",
      "epoch 1900 Cost : 0.23892664909362793\n",
      "epoch 2000 Cost : 0.23852908611297607\n",
      "epoch 2100 Cost : 0.23813402652740479\n",
      "epoch 2200 Cost : 0.23773403465747833\n",
      "epoch 2300 Cost : 0.2373465597629547\n",
      "epoch 2400 Cost : 0.2369551956653595\n",
      "epoch 2500 Cost : 0.23656506836414337\n",
      "epoch 2600 Cost : 0.236178919672966\n",
      "epoch 2700 Cost : 0.2357950657606125\n",
      "epoch 2800 Cost : 0.23541387915611267\n",
      "epoch 2900 Cost : 0.23502984642982483\n",
      "epoch 3000 Cost : 0.23465318977832794\n",
      "epoch 3100 Cost : 0.23426993191242218\n",
      "epoch 3200 Cost : 0.2338957041501999\n",
      "epoch 3300 Cost : 0.23352321982383728\n",
      "epoch 3400 Cost : 0.23315472900867462\n",
      "epoch 3500 Cost : 0.2327856719493866\n",
      "epoch 3600 Cost : 0.23241785168647766\n",
      "epoch 3700 Cost : 0.2320515662431717\n",
      "epoch 3800 Cost : 0.23168615996837616\n",
      "epoch 3900 Cost : 0.23132380843162537\n",
      "epoch 4000 Cost : 0.2309640645980835\n",
      "epoch 4100 Cost : 0.23061147332191467\n",
      "epoch 4200 Cost : 0.23025372624397278\n",
      "epoch 4300 Cost : 0.22988970577716827\n",
      "epoch 4400 Cost : 0.22954297065734863\n",
      "epoch 4500 Cost : 0.22919347882270813\n",
      "epoch 4600 Cost : 0.22884277999401093\n",
      "epoch 4700 Cost : 0.2284994125366211\n",
      "epoch 4800 Cost : 0.2281477153301239\n",
      "epoch 4900 Cost : 0.22780951857566833\n",
      "epoch 5000 Cost : 0.22746534645557404\n",
      "epoch 5100 Cost : 0.2271246612071991\n",
      "epoch 5200 Cost : 0.22678044438362122\n",
      "epoch 5300 Cost : 0.2264445722103119\n",
      "epoch 5400 Cost : 0.22610852122306824\n",
      "epoch 5500 Cost : 0.22577741742134094\n",
      "epoch 5600 Cost : 0.22544053196907043\n",
      "epoch 5700 Cost : 0.22511008381843567\n",
      "epoch 5800 Cost : 0.22478023171424866\n",
      "epoch 5900 Cost : 0.22445163130760193\n",
      "epoch 6000 Cost : 0.22413308918476105\n",
      "epoch 6100 Cost : 0.22380788624286652\n",
      "epoch 6200 Cost : 0.2234850823879242\n",
      "epoch 6300 Cost : 0.22316257655620575\n",
      "epoch 6400 Cost : 0.2228427678346634\n",
      "epoch 6500 Cost : 0.2225225269794464\n",
      "epoch 6600 Cost : 0.2222048044204712\n",
      "epoch 6700 Cost : 0.22189056873321533\n",
      "epoch 6800 Cost : 0.22157564759254456\n",
      "epoch 6900 Cost : 0.22126321494579315\n",
      "epoch 7000 Cost : 0.22094985842704773\n",
      "epoch 7100 Cost : 0.22064881026744843\n",
      "epoch 7200 Cost : 0.22034044563770294\n",
      "epoch 7300 Cost : 0.22003142535686493\n",
      "epoch 7400 Cost : 0.21972699463367462\n",
      "epoch 7500 Cost : 0.21942630410194397\n",
      "epoch 7600 Cost : 0.21912071108818054\n",
      "epoch 7700 Cost : 0.21882052719593048\n",
      "epoch 7800 Cost : 0.218528151512146\n",
      "epoch 7900 Cost : 0.21822360157966614\n",
      "epoch 8000 Cost : 0.21793141961097717\n",
      "epoch 8100 Cost : 0.21763388812541962\n",
      "epoch 8200 Cost : 0.21734437346458435\n",
      "epoch 8300 Cost : 0.21705293655395508\n",
      "epoch 8400 Cost : 0.21675901114940643\n",
      "epoch 8500 Cost : 0.21647360920906067\n",
      "epoch 8600 Cost : 0.21619150042533875\n",
      "epoch 8700 Cost : 0.21589937806129456\n",
      "epoch 8800 Cost : 0.21561864018440247\n",
      "epoch 8900 Cost : 0.21534033119678497\n",
      "epoch 9000 Cost : 0.2150566279888153\n",
      "epoch 9100 Cost : 0.2147746980190277\n",
      "epoch 9200 Cost : 0.21449582278728485\n",
      "epoch 9300 Cost : 0.21421751379966736\n",
      "epoch 9400 Cost : 0.21394021809101105\n",
      "epoch 9500 Cost : 0.21366651356220245\n",
      "epoch 9600 Cost : 0.21339085698127747\n",
      "epoch 9700 Cost : 0.21311810612678528\n",
      "epoch 9800 Cost : 0.2128523588180542\n",
      "epoch 9900 Cost : 0.21257595717906952\n",
      "epoch 10000 Cost : 0.21231350302696228\n",
      "epoch 10100 Cost : 0.2120475322008133\n",
      "epoch 10200 Cost : 0.21178312599658966\n",
      "epoch 10300 Cost : 0.21151474118232727\n",
      "epoch 10400 Cost : 0.2112516462802887\n",
      "epoch 10500 Cost : 0.21099016070365906\n",
      "epoch 10600 Cost : 0.2107301950454712\n",
      "epoch 10700 Cost : 0.21046991646289825\n",
      "epoch 10800 Cost : 0.21021108329296112\n",
      "epoch 10900 Cost : 0.20995526015758514\n",
      "epoch 11000 Cost : 0.2097000777721405\n",
      "epoch 11100 Cost : 0.20944762229919434\n",
      "epoch 11200 Cost : 0.20919501781463623\n",
      "epoch 11300 Cost : 0.2089393585920334\n",
      "epoch 11400 Cost : 0.20868921279907227\n",
      "epoch 11500 Cost : 0.20844650268554688\n",
      "epoch 11600 Cost : 0.20818988978862762\n",
      "epoch 11700 Cost : 0.20794570446014404\n",
      "epoch 11800 Cost : 0.2076990157365799\n",
      "epoch 11900 Cost : 0.20745031535625458\n",
      "epoch 12000 Cost : 0.20721440017223358\n",
      "epoch 12100 Cost : 0.20697002112865448\n",
      "epoch 12200 Cost : 0.20673327147960663\n",
      "epoch 12300 Cost : 0.20648875832557678\n",
      "epoch 12400 Cost : 0.20624828338623047\n",
      "epoch 12500 Cost : 0.20601019263267517\n",
      "epoch 12600 Cost : 0.2057793140411377\n",
      "epoch 12700 Cost : 0.20553728938102722\n",
      "epoch 12800 Cost : 0.2053035944700241\n",
      "epoch 12900 Cost : 0.20507240295410156\n",
      "epoch 13000 Cost : 0.20483918488025665\n",
      "epoch 13100 Cost : 0.20461039245128632\n",
      "epoch 13200 Cost : 0.2043849527835846\n",
      "epoch 13300 Cost : 0.20415011048316956\n",
      "epoch 13400 Cost : 0.20392516255378723\n",
      "epoch 13500 Cost : 0.20370051264762878\n",
      "epoch 13600 Cost : 0.20346732437610626\n",
      "epoch 13700 Cost : 0.20324654877185822\n",
      "epoch 13800 Cost : 0.20302090048789978\n",
      "epoch 13900 Cost : 0.202804297208786\n",
      "epoch 14000 Cost : 0.20257993042469025\n",
      "epoch 14100 Cost : 0.20236773788928986\n",
      "epoch 14200 Cost : 0.2021421641111374\n",
      "epoch 14300 Cost : 0.2019256353378296\n",
      "epoch 14400 Cost : 0.20170530676841736\n",
      "epoch 14500 Cost : 0.2014913111925125\n",
      "epoch 14600 Cost : 0.2012776881456375\n",
      "epoch 14700 Cost : 0.2010665237903595\n",
      "epoch 14800 Cost : 0.2008512020111084\n",
      "epoch 14900 Cost : 0.2006385326385498\n",
      "epoch 15000 Cost : 0.20043189823627472\n",
      "epoch 15100 Cost : 0.20021764934062958\n",
      "epoch 15200 Cost : 0.20000962913036346\n",
      "epoch 15300 Cost : 0.1998024880886078\n",
      "epoch 15400 Cost : 0.19959592819213867\n",
      "epoch 15500 Cost : 0.1993887722492218\n",
      "epoch 15600 Cost : 0.19918647408485413\n",
      "epoch 15700 Cost : 0.19898031651973724\n",
      "epoch 15800 Cost : 0.19877836108207703\n",
      "epoch 15900 Cost : 0.19858255982398987\n",
      "epoch 16000 Cost : 0.19837456941604614\n",
      "epoch 16100 Cost : 0.1981803923845291\n",
      "epoch 16200 Cost : 0.1979791820049286\n",
      "epoch 16300 Cost : 0.19777771830558777\n",
      "epoch 16400 Cost : 0.19758109748363495\n",
      "epoch 16500 Cost : 0.19738689064979553\n",
      "epoch 16600 Cost : 0.19719509780406952\n",
      "epoch 16700 Cost : 0.19700157642364502\n",
      "epoch 16800 Cost : 0.19680801033973694\n",
      "epoch 16900 Cost : 0.1966148018836975\n",
      "epoch 17000 Cost : 0.19642405211925507\n",
      "epoch 17100 Cost : 0.19623292982578278\n",
      "epoch 17200 Cost : 0.19604451954364777\n",
      "epoch 17300 Cost : 0.19585461914539337\n",
      "epoch 17400 Cost : 0.19566616415977478\n",
      "epoch 17500 Cost : 0.19548265635967255\n",
      "epoch 17600 Cost : 0.1952972710132599\n",
      "epoch 17700 Cost : 0.19511400163173676\n",
      "epoch 17800 Cost : 0.19492411613464355\n",
      "epoch 17900 Cost : 0.19474156200885773\n",
      "epoch 18000 Cost : 0.194563627243042\n",
      "epoch 18100 Cost : 0.19437715411186218\n",
      "epoch 18200 Cost : 0.1941966712474823\n",
      "epoch 18300 Cost : 0.19402392208576202\n",
      "epoch 18400 Cost : 0.1938425451517105\n",
      "epoch 18500 Cost : 0.19366338849067688\n",
      "epoch 18600 Cost : 0.1934862583875656\n",
      "epoch 18700 Cost : 0.19330956041812897\n",
      "epoch 18800 Cost : 0.19313091039657593\n",
      "epoch 18900 Cost : 0.19295890629291534\n",
      "epoch 19000 Cost : 0.19278793036937714\n",
      "epoch 19100 Cost : 0.19261711835861206\n",
      "epoch 19200 Cost : 0.1924467533826828\n",
      "epoch 19300 Cost : 0.1922774314880371\n",
      "epoch 19400 Cost : 0.19210116565227509\n",
      "epoch 19500 Cost : 0.19193163514137268\n",
      "epoch 19600 Cost : 0.19176438450813293\n",
      "epoch 19700 Cost : 0.19159691035747528\n",
      "epoch 19800 Cost : 0.19143302738666534\n",
      "epoch 19900 Cost : 0.19126655161380768\n",
      "epoch 20000 Cost : 0.19109907746315002\n"
     ]
    }
   ],
   "source": [
    "for epoch in range(20001):\n",
    "    predict = model(x_train)\n",
    "    cost = F.mse_loss(predict, y_train)\n",
    "\n",
    "    optimize.zero_grad() # optimize 초기화\n",
    "    cost.backward() # 손실함수는 계산된 결과에서 앞으로 돌아온다 그래서 backward() 처리한다. / cost 계산 적용\n",
    "    optimize.step() # w, b를 업데이트 한다.\n",
    "\n",
    "    if epoch % 100 == 0:\n",
    "        print('epoch', epoch, 'Cost :', cost.item())"
   ]
  },
  {
   "cell_type": "code",
   "execution_count": 50,
   "metadata": {},
   "outputs": [
    {
     "name": "stdout",
     "output_type": "stream",
     "text": [
      "[Parameter containing:\n",
      "tensor([[0.9463, 0.4719, 0.5894]], requires_grad=True), Parameter containing:\n",
      "tensor([0.3440], requires_grad=True)]\n"
     ]
    }
   ],
   "source": [
    "print(list(model.parameters()))"
   ]
  },
  {
   "cell_type": "code",
   "execution_count": 51,
   "metadata": {},
   "outputs": [
    {
     "name": "stdout",
     "output_type": "stream",
     "text": [
      "tensor([[151.3821]], grad_fn=<AddmmBackward0>)\n"
     ]
    }
   ],
   "source": [
    "# 예측을 해보자\n",
    "new_bar = torch.FloatTensor([[73,80,75]])\n",
    "pred = model(new_bar)\n",
    "print(pred)"
   ]
  },
  {
   "cell_type": "markdown",
   "metadata": {},
   "source": [
    "- 파이썬 클래스 이용해서 구현"
   ]
  },
  {
   "cell_type": "code",
   "execution_count": 52,
   "metadata": {},
   "outputs": [],
   "source": [
    "torch.manual_seed(1)\n",
    "x_train = torch.FloatTensor([[1],[2],[3],[4],[5]])\n",
    "y_train = torch.FloatTensor([[3],[5],[7],[9],[11]])"
   ]
  },
  {
   "cell_type": "code",
   "execution_count": 53,
   "metadata": {},
   "outputs": [],
   "source": [
    "class LinearRegressionModel(nn.Module):\n",
    "    # 생성자 생성 : 생성자에서는 모델을 정의한다.\n",
    "    def __init__(self):\n",
    "        super().__init__()\n",
    "        self.linear = nn.Linear(1,1)\n",
    "    \n",
    "    # 정의한 모델 실행\n",
    "    def forward(self, x):\n",
    "        return self.linear(x)\n"
   ]
  },
  {
   "cell_type": "code",
   "execution_count": 54,
   "metadata": {},
   "outputs": [],
   "source": [
    "model = LinearRegressionModel()\n",
    "optimizer = optim.SGD(model.parameters(), lr=0.01)"
   ]
  },
  {
   "cell_type": "code",
   "execution_count": 55,
   "metadata": {},
   "outputs": [
    {
     "name": "stdout",
     "output_type": "stream",
     "text": [
      "Epoch:  0 cost:  39.16685104370117\n",
      "Epoch:  400 cost:  0.01109258271753788\n",
      "Epoch:  800 cost:  0.0007385412463918328\n",
      "Epoch:  1200 cost:  4.91717473778408e-05\n",
      "Epoch:  1600 cost:  3.276181814726442e-06\n",
      "Epoch:  2000 cost:  2.1860606125301274e-07\n",
      "Epoch:  2400 cost:  1.4702209227834828e-08\n",
      "Epoch:  2800 cost:  9.986707016906848e-10\n",
      "Epoch:  3200 cost:  1.0809344391793374e-10\n",
      "Epoch:  3600 cost:  5.426272625674855e-11\n",
      "Epoch:  4000 cost:  5.426272625674855e-11\n",
      "Epoch:  4400 cost:  5.426272625674855e-11\n",
      "Epoch:  4800 cost:  5.426272625674855e-11\n",
      "Epoch:  5200 cost:  5.426272625674855e-11\n",
      "Epoch:  5600 cost:  5.426272625674855e-11\n",
      "Epoch:  6000 cost:  5.426272625674855e-11\n",
      "Epoch:  6400 cost:  5.426272625674855e-11\n",
      "Epoch:  6800 cost:  5.426272625674855e-11\n",
      "Epoch:  7200 cost:  5.426272625674855e-11\n",
      "Epoch:  7600 cost:  5.426272625674855e-11\n",
      "Epoch:  8000 cost:  5.426272625674855e-11\n",
      "Epoch:  8400 cost:  5.426272625674855e-11\n",
      "Epoch:  8800 cost:  5.426272625674855e-11\n",
      "Epoch:  9200 cost:  5.426272625674855e-11\n",
      "Epoch:  9600 cost:  5.426272625674855e-11\n",
      "Epoch:  10000 cost:  5.426272625674855e-11\n",
      "Epoch:  10400 cost:  5.426272625674855e-11\n",
      "Epoch:  10800 cost:  5.426272625674855e-11\n",
      "Epoch:  11200 cost:  5.426272625674855e-11\n",
      "Epoch:  11600 cost:  5.426272625674855e-11\n",
      "Epoch:  12000 cost:  5.426272625674855e-11\n",
      "Epoch:  12400 cost:  5.426272625674855e-11\n",
      "Epoch:  12800 cost:  5.426272625674855e-11\n",
      "Epoch:  13200 cost:  5.426272625674855e-11\n",
      "Epoch:  13600 cost:  5.426272625674855e-11\n",
      "Epoch:  14000 cost:  5.426272625674855e-11\n",
      "Epoch:  14400 cost:  5.426272625674855e-11\n",
      "Epoch:  14800 cost:  5.426272625674855e-11\n",
      "Epoch:  15200 cost:  5.426272625674855e-11\n",
      "Epoch:  15600 cost:  5.426272625674855e-11\n",
      "Epoch:  16000 cost:  5.426272625674855e-11\n",
      "Epoch:  16400 cost:  5.426272625674855e-11\n",
      "Epoch:  16800 cost:  5.426272625674855e-11\n",
      "Epoch:  17200 cost:  5.426272625674855e-11\n",
      "Epoch:  17600 cost:  5.426272625674855e-11\n",
      "Epoch:  18000 cost:  5.426272625674855e-11\n",
      "Epoch:  18400 cost:  5.426272625674855e-11\n",
      "Epoch:  18800 cost:  5.426272625674855e-11\n",
      "Epoch:  19200 cost:  5.426272625674855e-11\n",
      "Epoch:  19600 cost:  5.426272625674855e-11\n",
      "Epoch:  20000 cost:  5.426272625674855e-11\n"
     ]
    }
   ],
   "source": [
    "for epoch in range(20001):\n",
    "    prediction = model(x_train) # 예측\n",
    "    cost = F.mse_loss(prediction, y_train)\n",
    "\n",
    "    optimizer.zero_grad()\n",
    "    cost.backward()\n",
    "    optimizer.step()\n",
    "\n",
    "    if epoch % 400 == 0:\n",
    "        print('Epoch: ', epoch, 'cost: ', cost.item())"
   ]
  },
  {
   "cell_type": "code",
   "execution_count": 58,
   "metadata": {},
   "outputs": [
    {
     "name": "stdout",
     "output_type": "stream",
     "text": [
      "[Parameter containing:\n",
      "tensor([[2.0000]], requires_grad=True), Parameter containing:\n",
      "tensor([1.0000], requires_grad=True)]\n"
     ]
    }
   ],
   "source": [
    "print(list(model.parameters()))"
   ]
  },
  {
   "cell_type": "code",
   "execution_count": 59,
   "metadata": {},
   "outputs": [
    {
     "data": {
      "text/plain": [
       "tensor([[23.0000],\n",
       "        [25.0000]], grad_fn=<AddmmBackward0>)"
      ]
     },
     "execution_count": 59,
     "metadata": {},
     "output_type": "execute_result"
    }
   ],
   "source": [
    "model(torch.FloatTensor([[11], [12]]))"
   ]
  }
 ],
 "metadata": {
  "kernelspec": {
   "display_name": "base",
   "language": "python",
   "name": "python3"
  },
  "language_info": {
   "codemirror_mode": {
    "name": "ipython",
    "version": 3
   },
   "file_extension": ".py",
   "mimetype": "text/x-python",
   "name": "python",
   "nbconvert_exporter": "python",
   "pygments_lexer": "ipython3",
   "version": "3.11.4"
  },
  "orig_nbformat": 4
 },
 "nbformat": 4,
 "nbformat_minor": 2
}
