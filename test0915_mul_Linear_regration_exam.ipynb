{
 "cells": [
  {
   "cell_type": "code",
   "execution_count": 1,
   "metadata": {},
   "outputs": [],
   "source": [
    "import torch\n",
    "import torch.nn as nn\n",
    "import torch.nn.functional as F\n",
    "import torch.optim as optim"
   ]
  },
  {
   "cell_type": "code",
   "execution_count": 2,
   "metadata": {},
   "outputs": [],
   "source": [
    "x_train = [[73., 80., 75.],\n",
    "           [93., 88., 93.],\n",
    "           [89., 91., 90.],\n",
    "           [96., 98., 100.],\n",
    "           [73., 66., 70.]]\n",
    "y_train = [[152.], [185.], [180.], [196.], [142.]]"
   ]
  },
  {
   "cell_type": "code",
   "execution_count": 3,
   "metadata": {},
   "outputs": [],
   "source": [
    "# __init__ 와 forward를 정해져 있음\n",
    "class MultiLinearRegressionModel(nn.Module):\n",
    "    # 생성자 생성 : 생성자에서는 모델을 정의한다.\n",
    "    def __init__(self):\n",
    "        super().__init__()\n",
    "        self.linear = nn.Linear(3,1)\n",
    "    \n",
    "    # 정의한 모델 실행\n",
    "    def forward(self, x):\n",
    "        return self.linear(x)"
   ]
  },
  {
   "cell_type": "code",
   "execution_count": 4,
   "metadata": {},
   "outputs": [],
   "source": [
    "torch.manual_seed(1)\n",
    "x_train = torch.FloatTensor(x_train)\n",
    "y_train = torch.FloatTensor(y_train)"
   ]
  },
  {
   "cell_type": "code",
   "execution_count": 5,
   "metadata": {},
   "outputs": [],
   "source": [
    "model = MultiLinearRegressionModel()\n",
    "optimizer = optim.SGD(model.parameters(), lr=1e-5)"
   ]
  },
  {
   "cell_type": "code",
   "execution_count": 13,
   "metadata": {},
   "outputs": [
    {
     "name": "stdout",
     "output_type": "stream",
     "text": [
      "Epoch:  0 cost : 0.1602286696434021\n",
      "Epoch:  400 cost : 0.16019795835018158\n",
      "Epoch:  800 cost : 0.16015425324440002\n",
      "Epoch:  1200 cost : 0.16012263298034668\n",
      "Epoch:  1600 cost : 0.1600874364376068\n",
      "Epoch:  2000 cost : 0.16005156934261322\n",
      "Epoch:  2400 cost : 0.16002318263053894\n",
      "Epoch:  2800 cost : 0.15999609231948853\n",
      "Epoch:  3200 cost : 0.15995731949806213\n",
      "Epoch:  3600 cost : 0.15992963314056396\n",
      "Epoch:  4000 cost : 0.15990376472473145\n",
      "Epoch:  4400 cost : 0.15987364947795868\n",
      "Epoch:  4800 cost : 0.15984033048152924\n",
      "Epoch:  5200 cost : 0.15982060134410858\n",
      "Epoch:  5600 cost : 0.1597871482372284\n",
      "Epoch:  6000 cost : 0.1597646176815033\n",
      "Epoch:  6400 cost : 0.1597367376089096\n",
      "Epoch:  6800 cost : 0.15971218049526215\n",
      "Epoch:  7200 cost : 0.15968552231788635\n",
      "Epoch:  7600 cost : 0.1596594750881195\n",
      "Epoch:  8000 cost : 0.15963450074195862\n",
      "Epoch:  8400 cost : 0.15961316227912903\n",
      "Epoch:  8800 cost : 0.15958881378173828\n",
      "Epoch:  9200 cost : 0.15956710278987885\n",
      "Epoch:  9600 cost : 0.15954233705997467\n",
      "Epoch:  10000 cost : 0.15951696038246155\n",
      "Epoch:  10400 cost : 0.15949632227420807\n",
      "Epoch:  10800 cost : 0.15947312116622925\n",
      "Epoch:  11200 cost : 0.1594545841217041\n",
      "Epoch:  11600 cost : 0.159430593252182\n",
      "Epoch:  12000 cost : 0.15940991044044495\n",
      "Epoch:  12400 cost : 0.15939167141914368\n",
      "Epoch:  12800 cost : 0.159369558095932\n",
      "Epoch:  13200 cost : 0.1593507081270218\n",
      "Epoch:  13600 cost : 0.15932653844356537\n",
      "Epoch:  14000 cost : 0.15931083261966705\n",
      "Epoch:  14400 cost : 0.1592840552330017\n",
      "Epoch:  14800 cost : 0.159266397356987\n",
      "Epoch:  15200 cost : 0.15924707055091858\n",
      "Epoch:  15600 cost : 0.1592293530702591\n",
      "Epoch:  16000 cost : 0.15922018885612488\n",
      "Epoch:  16400 cost : 0.15919692814350128\n",
      "Epoch:  16800 cost : 0.15917621552944183\n",
      "Epoch:  17200 cost : 0.15916220843791962\n",
      "Epoch:  17600 cost : 0.1591438353061676\n",
      "Epoch:  18000 cost : 0.15912683308124542\n",
      "Epoch:  18400 cost : 0.15911400318145752\n",
      "Epoch:  18800 cost : 0.15909890830516815\n",
      "Epoch:  19200 cost : 0.159082293510437\n",
      "Epoch:  19600 cost : 0.1590644121170044\n",
      "Epoch:  20000 cost : 0.15904942154884338\n"
     ]
    }
   ],
   "source": [
    "for epoch in range(20001):\n",
    "    prediction = model(x_train)\n",
    "    cost = F.mse_loss(prediction, y_train)\n",
    "\n",
    "    optimizer.zero_grad()\n",
    "    cost.backward()\n",
    "    optimizer.step()\n",
    "\n",
    "    if epoch % 400 == 0:\n",
    "        print('Epoch: ', epoch, 'cost :', cost.item())"
   ]
  },
  {
   "cell_type": "code",
   "execution_count": 14,
   "metadata": {},
   "outputs": [
    {
     "name": "stdout",
     "output_type": "stream",
     "text": [
      "[Parameter containing:\n",
      "tensor([[1.0263, 0.5117, 0.4714]], requires_grad=True), Parameter containing:\n",
      "tensor([0.3131], requires_grad=True)]\n"
     ]
    }
   ],
   "source": [
    "print(list(model.parameters()))"
   ]
  },
  {
   "cell_type": "code",
   "execution_count": 15,
   "metadata": {},
   "outputs": [
    {
     "data": {
      "text/plain": [
       "tensor([[168.8634]], grad_fn=<AddmmBackward0>)"
      ]
     },
     "execution_count": 15,
     "metadata": {},
     "output_type": "execute_result"
    }
   ],
   "source": [
    "model(torch.FloatTensor([[85, 76, 90]]))"
   ]
  }
 ],
 "metadata": {
  "kernelspec": {
   "display_name": "base",
   "language": "python",
   "name": "python3"
  },
  "language_info": {
   "codemirror_mode": {
    "name": "ipython",
    "version": 3
   },
   "file_extension": ".py",
   "mimetype": "text/x-python",
   "name": "python",
   "nbconvert_exporter": "python",
   "pygments_lexer": "ipython3",
   "version": "3.11.4"
  },
  "orig_nbformat": 4
 },
 "nbformat": 4,
 "nbformat_minor": 2
}
