{
 "cells": [
  {
   "cell_type": "code",
   "execution_count": 1,
   "metadata": {},
   "outputs": [],
   "source": [
    "import numpy as np\n",
    "import matplotlib.pyplot as plt"
   ]
  },
  {
   "cell_type": "code",
   "execution_count": 4,
   "metadata": {},
   "outputs": [],
   "source": [
    "import torch\n",
    "import torch.nn as nn\n",
    "import torch.nn.functional as F\n",
    "import torch.optim as optim"
   ]
  },
  {
   "cell_type": "markdown",
   "metadata": {},
   "source": [
    "1 AND 게이트\n",
    "- x_data = torch.FloatTensor([[0,0],[0,1],[1,0],[1,1]])\n",
    "- y_data = torch.FloatTensor([[0],[0],[0],[1]])\n",
    "\n",
    "2 OR 게이트\n",
    "- x_data = torch.FloatTensor([[0,0],[0,1],[1,0],[1,1]])\n",
    "- y_data = torch.FloatTensor([[0],[1],[1],[1]])\n",
    "\n",
    "3 NAND 게이트\n",
    "- x_data = torch.FloatTensor([[0,0],[0,1],[1,0],[1,1]])\n",
    "- y_data = torch.FloatTensor([[1],[1],[1],[0]])\n",
    "\n",
    "4 XOR 게이트(베타적 OR 게이트)\n",
    "- x_data = torch.FloatTensor([[0,0],[0,1],[1,0],[1,1]])\n",
    "- y_data = torch.FloatTensor([[0],[1],[1],[0]])\n",
    "\n",
    "5 XOR 만 값을 찾지 못함 : \n",
    "    - 이걸 해결하기 위해서 하는 것이 NAND, OR를 합치면 해결이 되는데 이렇게 단을 여러개 하면 딥러닝이 된다."
   ]
  },
  {
   "cell_type": "code",
   "execution_count": 44,
   "metadata": {},
   "outputs": [
    {
     "name": "stdout",
     "output_type": "stream",
     "text": [
      "torch.Size([4, 2])\n",
      "torch.Size([4, 1])\n"
     ]
    }
   ],
   "source": [
    "# AND\n",
    "torch.manual_seed(1)\n",
    "x_data = torch.FloatTensor([[0,0],[0,1],[1,0],[1,1]])\n",
    "y_data = torch.FloatTensor([[0],[1],[1],[0]])\n",
    "x_train = torch.FloatTensor(x_data)\n",
    "y_train = torch.FloatTensor(y_data)\n",
    "print(x_train.size())\n",
    "print(y_train.size())"
   ]
  },
  {
   "cell_type": "code",
   "execution_count": 49,
   "metadata": {},
   "outputs": [
    {
     "name": "stdout",
     "output_type": "stream",
     "text": [
      "Epoch :  0  cost :  0.6955839395523071    Accuracy :  25.0\n",
      "Epoch :  100  cost :  0.6935165524482727    Accuracy :  50.0\n",
      "Epoch :  200  cost :  0.6932545900344849    Accuracy :  50.0\n",
      "Epoch :  300  cost :  0.6931787133216858    Accuracy :  50.0\n",
      "Epoch :  400  cost :  0.6931566596031189    Accuracy :  50.0\n",
      "Epoch :  500  cost :  0.6931500434875488    Accuracy :  50.0\n",
      "Epoch :  600  cost :  0.6931480765342712    Accuracy :  50.0\n",
      "Epoch :  700  cost :  0.6931474208831787    Accuracy :  50.0\n",
      "Epoch :  800  cost :  0.6931472420692444    Accuracy :  50.0\n",
      "Epoch :  900  cost :  0.6931471824645996    Accuracy :  50.0\n",
      "Epoch :  1000  cost :  0.6931471824645996    Accuracy :  50.0\n"
     ]
    }
   ],
   "source": [
    "model = nn.Sequential(nn.Linear(2,1), nn.Sigmoid())\n",
    "optimizer = optim.SGD(model.parameters(), lr=0.1)\n",
    "\n",
    "# epoch : 한 데이터를 전부 읽어서 트레이닝을 시키는 것을 epoch라고 한다.\n",
    "for epoch in range(1001):\n",
    "    h = model(x_data)\n",
    "    cost = F.binary_cross_entropy(h, y_data)\n",
    "\n",
    "    optimizer.zero_grad()\n",
    "    cost.backward()\n",
    "    optimizer.step()\n",
    "\n",
    "    if epoch % 100 == 0:\n",
    "        predict = h> torch.FloatTensor([0.5]).float()\n",
    "        correct_pre = predict == y_data\n",
    "        accuracy = correct_pre.sum().item() / len(correct_pre)\n",
    "\n",
    "        print(\"Epoch : \", epoch, \" cost : \", cost.item(), \"   Accuracy : \", accuracy*100)\n"
   ]
  },
  {
   "cell_type": "code",
   "execution_count": 46,
   "metadata": {},
   "outputs": [
    {
     "data": {
      "text/plain": [
       "tensor([[0.],\n",
       "        [0.],\n",
       "        [1.],\n",
       "        [1.]])"
      ]
     },
     "execution_count": 46,
     "metadata": {},
     "output_type": "execute_result"
    }
   ],
   "source": [
    "(model(x_data) > torch.FloatTensor([0.5])).float()"
   ]
  },
  {
   "cell_type": "code",
   "execution_count": 4,
   "metadata": {},
   "outputs": [
    {
     "name": "stdout",
     "output_type": "stream",
     "text": [
      "이름은 홍길동이고 나이는 20리고 직업은 과학자입니다.\n"
     ]
    }
   ],
   "source": [
    "name = \"홍길동\"\n",
    "age = 20\n",
    "job = \"과학자\"\n",
    "print(\"이름은 {0}이고 나이는 {1}리고 직업은 {2}입니다.\".format(name, age, job))"
   ]
  },
  {
   "cell_type": "code",
   "execution_count": 9,
   "metadata": {},
   "outputs": [
    {
     "name": "stdout",
     "output_type": "stream",
     "text": [
      "이름은 홍길동 이고 나이는   20리고 직업은 과학자입니다.\n",
      "이름은 홍길동이고, 나이는   20이고, 직업은  과학자입니다.\n"
     ]
    }
   ],
   "source": [
    "name = \"홍길동\"\n",
    "age = 20\n",
    "job = \"과학자\"\n",
    "print(\"이름은 {0:4s}이고 나이는 {1:4d}리고 직업은 {2}입니다.\".format(name, age, job))\n",
    "print(\"이름은 %s이고, 나이는 %4d이고, 직업은 %4s입니다.\" %(name, age, job))"
   ]
  }
 ],
 "metadata": {
  "kernelspec": {
   "display_name": "base",
   "language": "python",
   "name": "python3"
  },
  "language_info": {
   "codemirror_mode": {
    "name": "ipython",
    "version": 3
   },
   "file_extension": ".py",
   "mimetype": "text/x-python",
   "name": "python",
   "nbconvert_exporter": "python",
   "pygments_lexer": "ipython3",
   "version": "3.11.4"
  },
  "orig_nbformat": 4
 },
 "nbformat": 4,
 "nbformat_minor": 2
}
