{
 "cells": [
  {
   "cell_type": "code",
   "execution_count": 1,
   "metadata": {},
   "outputs": [],
   "source": [
    "import numpy as np"
   ]
  },
  {
   "cell_type": "code",
   "execution_count": 16,
   "metadata": {},
   "outputs": [
    {
     "name": "stdout",
     "output_type": "stream",
     "text": [
      "[[       10      2043         5 978228989]\n",
      " [        8       269         4 978231121]\n",
      " [       10       253         5 978228886]\n",
      " ...\n",
      " [        8      2916         5 978229172]\n",
      " [       10      2946         3 979168591]\n",
      " [       10       898         4 979167630]]\n"
     ]
    }
   ],
   "source": [
    "data = np.genfromtxt('data/ratings.dat', delimiter=\"::\", dtype=np.int64)\n",
    "# strtemp = data[:, 1]\n",
    "# ▼ 에러코드\n",
    "# print(data[data[:,1], :])\n",
    "# print(data.shape)"
   ]
  },
  {
   "cell_type": "code",
   "execution_count": 10,
   "metadata": {},
   "outputs": [
    {
     "name": "stdout",
     "output_type": "stream",
     "text": [
      "[   1    2    3 ... 3950 3951 3952]\n"
     ]
    }
   ],
   "source": [
    "movie_ids = np.unique(data[:, 1])\n",
    "print(movie_ids)"
   ]
  },
  {
   "cell_type": "code",
   "execution_count": 11,
   "metadata": {},
   "outputs": [],
   "source": [
    "mean_values = []\n",
    "for movie_id in movie_ids:\n",
    "    data_for_movie = data[data[:,1]==movie_id, : ]\n",
    "    value = data_for_movie[:, 2].mean()\n",
    "    mean_values.append([movie_id, value])"
   ]
  },
  {
   "cell_type": "code",
   "execution_count": 12,
   "metadata": {},
   "outputs": [
    {
     "data": {
      "text/plain": [
       "[[1, 4.146846413095811],\n",
       " [2, 3.20114122681883],\n",
       " [3, 3.01673640167364],\n",
       " [4, 2.7294117647058824],\n",
       " [5, 3.0067567567567566],\n",
       " [6, 3.8787234042553194],\n",
       " [7, 3.410480349344978],\n",
       " [8, 3.014705882352941],\n",
       " [9, 2.656862745098039],\n",
       " [10, 3.5405405405405403]]"
      ]
     },
     "execution_count": 12,
     "metadata": {},
     "output_type": "execute_result"
    }
   ],
   "source": [
    "mean_values[:10]"
   ]
  },
  {
   "cell_type": "code",
   "execution_count": 13,
   "metadata": {},
   "outputs": [
    {
     "name": "stdout",
     "output_type": "stream",
     "text": [
      "[[ 1.         4.1468463]\n",
      " [ 2.         3.201141 ]\n",
      " [ 3.         3.0167365]\n",
      " [ 4.         2.7294118]\n",
      " [ 5.         3.0067568]\n",
      " [ 6.         3.8787234]\n",
      " [ 7.         3.4104803]\n",
      " [ 8.         3.014706 ]\n",
      " [ 9.         2.6568627]\n",
      " [10.         3.5405405]]\n"
     ]
    }
   ],
   "source": [
    "mean_array = np.array(mean_values, dtype=np.float32)\n",
    "print(mean_array[:10])"
   ]
  },
  {
   "cell_type": "code",
   "execution_count": 14,
   "metadata": {},
   "outputs": [],
   "source": [
    "np.savetxt('data/movieid_result.csv', mean_array, fmt='%.2f', delimiter=',')"
   ]
  }
 ],
 "metadata": {
  "kernelspec": {
   "display_name": "base",
   "language": "python",
   "name": "python3"
  },
  "language_info": {
   "codemirror_mode": {
    "name": "ipython",
    "version": 3
   },
   "file_extension": ".py",
   "mimetype": "text/x-python",
   "name": "python",
   "nbconvert_exporter": "python",
   "pygments_lexer": "ipython3",
   "version": "3.11.4"
  },
  "orig_nbformat": 4
 },
 "nbformat": 4,
 "nbformat_minor": 2
}
